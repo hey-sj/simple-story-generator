{
 "cells": [
  {
   "cell_type": "code",
   "execution_count": null,
   "id": "initial_id",
   "metadata": {
    "ExecuteTime": {
     "end_time": "2024-11-01T21:49:38.570679Z",
     "start_time": "2024-11-01T21:49:35.857234Z"
    },
    "collapsed": true,
    "id": "initial_id",
    "jupyter": {
     "outputs_hidden": true
    }
   },
   "outputs": [],
   "source": [
    "import torch\n",
    "import os\n",
    "from transformers import GPT2Tokenizer, GPT2LMHeadModel\n",
    "import matplotlib.pyplot as plt\n",
    "import torch.nn.utils.rnn as rnn\n",
    "from torch.utils.data import DataLoader, TensorDataset\n",
    "from sklearn.model_selection import train_test_split"
   ]
  },
  {
   "cell_type": "markdown",
   "id": "fffcb8a62f6c7849",
   "metadata": {
    "id": "fffcb8a62f6c7849"
   },
   "source": [
    "task 1: define tokenization and text processing steps using GPT2Tokenizer"
   ]
  },
  {
   "cell_type": "code",
   "execution_count": null,
   "id": "6wsOyFTr3_Uy",
   "metadata": {
    "colab": {
     "base_uri": "https://localhost:8080/"
    },
    "id": "6wsOyFTr3_Uy",
    "outputId": "599a0dac-6e23-4950-b0c5-00ab3e0e8bd2"
   },
   "outputs": [
    {
     "name": "stdout",
     "output_type": "stream",
     "text": [
      "Drive already mounted at /content/drive; to attempt to forcibly remount, call drive.mount(\"/content/drive\", force_remount=True).\n"
     ]
    }
   ],
   "source": [
    "from google.colab import drive\n",
    "drive.mount('/content/drive')"
   ]
  },
  {
   "cell_type": "code",
   "execution_count": 23,
   "id": "e5c07a9d29e6b028",
   "metadata": {
    "ExecuteTime": {
     "end_time": "2024-11-01T21:49:48.757052Z",
     "start_time": "2024-11-01T21:49:38.574530Z"
    },
    "colab": {
     "base_uri": "https://localhost:8080/",
     "height": 0
    },
    "id": "e5c07a9d29e6b028",
    "outputId": "e93f5784-fa7b-47ed-b983-15630b75e32f"
   },
   "outputs": [
    {
     "name": "stderr",
     "output_type": "stream",
     "text": [
      "/usr/local/lib/python3.10/dist-packages/transformers/tokenization_utils_base.py:1601: FutureWarning: `clean_up_tokenization_spaces` was not set. It will be set to `True` by default. This behavior will be depracted in transformers v4.45, and will be then set to `False` by default. For more details check this issue: https://github.com/huggingface/transformers/issues/31884\n",
      "  warnings.warn(\n"
     ]
    }
   ],
   "source": [
    "# path to folder with fairy tales\n",
    "folder_path = '/content/drive/MyDrive/fairy_tales'\n",
    "\n",
    "#load dataset\n",
    "fairy_tales = []\n",
    "for filename in os.listdir(folder_path):\n",
    "    if filename.endswith('.txt'):\n",
    "        try:\n",
    "            with open(os.path.join(folder_path, filename), 'r', encoding='utf-8') as file:\n",
    "                fairy_tales.append(file.read())\n",
    "        except UnicodeDecodeError:\n",
    "            with open(os.path.join(folder_path, filename), 'r', encoding='latin-1') as file:\n",
    "                fairy_tales.append(file.read())\n",
    "\n",
    "# clean text\n",
    "import re\n",
    "\n",
    "def clean_text(text):\n",
    "    text = re.sub(r'[!\"#$%&()*+,-./:;<=>?@[\\]^_`{|}~]', ' ', text)\n",
    "    # remove extra whitespace\n",
    "    text = re.sub(r'\\s+', ' ', text)\n",
    "    # keep important punctuations\n",
    "    text = re.sub(r' [.] ', '. ', text)\n",
    "    text = re.sub(r' [, ] ', ', ', text)\n",
    "    text = re.sub(r' [?] ', '?' , text)\n",
    "    text = re.sub(r' [! ] ', '! ', text)\n",
    "    text = re.sub(r' [\"]+ ', '\"', text)\n",
    "    text = text.strip() #remove leading and trailing whitespaces\n",
    "    return text\n",
    "\n",
    "cleaned_fairy_tales = [clean_text(tale) for tale in fairy_tales]\n",
    "\n",
    "# split dataset into training and test sets\n",
    "train_texts, test_texts = train_test_split(cleaned_fairy_tales, test_size=0.2, random_state=42)\n",
    "\n",
    "# initialize tokenizer\n",
    "tokenizer = GPT2Tokenizer.from_pretrained('gpt2')\n",
    "tokenizer.pad_token = tokenizer.eos_token # set padding token to end of sequence token\n",
    "\n",
    "# tokenize and pad/truncate fairy tales\n",
    "max_length = 512 # 1024 is the maximum length supported by GPT2, halving for mem constraints\n",
    "tokenized_fairy_tales = [tokenizer(tale, padding='max_length', truncation=True, max_length=max_length, return_tensors='pt') for tale in cleaned_fairy_tales]\n",
    "input_ids = [t['input_ids'].squeeze(0) for t in tokenized_fairy_tales]\n",
    "attention_masks = [t['attention_mask'].squeeze(0) for t in tokenized_fairy_tales]\n",
    "\n",
    "# pad sequences\n",
    "padded_input_ids = rnn.pad_sequence(input_ids, batch_first=True, padding_value=tokenizer.eos_token_id)\n",
    "padded_attention_masks = rnn.pad_sequence(attention_masks, batch_first=True, padding_value=0)\n"
   ]
  },
  {
   "cell_type": "markdown",
   "id": "84fb5f7e5f91a317",
   "metadata": {
    "id": "84fb5f7e5f91a317"
   },
   "source": [
    "task 2: describe training strategy and method for calculating loss during training.\n",
    "\n",
    "below, I have defined a class to load and prepare the texts in the dataset. I use `DataLoader`s to feed batches of data to the model during training + eval.\n",
    "\n",
    "shown later, this model uses the standard cross-entropy loss function for language modeling. then the loss is averaged over all the tokens in the batch to get a single loss value for the batch."
   ]
  },
  {
   "cell_type": "code",
   "execution_count": 27,
   "id": "696e2eb81284062",
   "metadata": {
    "ExecuteTime": {
     "end_time": "2024-11-01T21:49:48.855650Z",
     "start_time": "2024-11-01T21:49:48.852138Z"
    },
    "id": "696e2eb81284062"
   },
   "outputs": [],
   "source": [
    "class FairyTalesDataset(torch.utils.data.Dataset):\n",
    "   def __init__(self, texts, tokenizer, max_len):\n",
    "       self.texts = texts\n",
    "       self.tokenizer = tokenizer\n",
    "       self.max_len = max_len\n",
    "\n",
    "   def __len__(self):\n",
    "       return len(self.texts)\n",
    "\n",
    "   def __getitem__(self, idx):\n",
    "       text = self.texts[idx]\n",
    "\n",
    "       encoding = self.tokenizer.encode_plus(\n",
    "           text,\n",
    "           add_special_tokens=True,\n",
    "           max_length=self.max_len,\n",
    "           return_token_type_ids=False,\n",
    "           padding='max_length',\n",
    "           return_attention_mask=True,\n",
    "           return_tensors='pt',\n",
    "           truncation=True\n",
    "       )\n",
    "\n",
    "       return {\n",
    "           'input_ids': encoding['input_ids'].flatten(),\n",
    "           'attention_mask': encoding['attention_mask'].flatten(),\n",
    "       }\n",
    "\n",
    "# create datasets\n",
    "train_dataset = FairyTalesDataset(train_texts, tokenizer, max_length)\n",
    "test_dataset = FairyTalesDataset(test_texts, tokenizer, max_length)\n",
    "\n",
    "# data loaders\n",
    "batch_size = 16\n",
    "train_loader = DataLoader(train_dataset, batch_size=batch_size, shuffle=True)\n",
    "test_loader = DataLoader(test_dataset, batch_size=batch_size, shuffle=False)"
   ]
  },
  {
   "cell_type": "markdown",
   "id": "105df055516381ee",
   "metadata": {
    "id": "105df055516381ee"
   },
   "source": [
    "task 3: define GPT-based model. describe any additional fine-tuning layers added."
   ]
  },
  {
   "cell_type": "code",
   "execution_count": 31,
   "id": "2e5da6d4f11b7cd",
   "metadata": {
    "ExecuteTime": {
     "start_time": "2024-11-01T21:49:48.874984Z"
    },
    "id": "2e5da6d4f11b7cd",
    "jupyter": {
     "is_executing": true
    }
   },
   "outputs": [],
   "source": [
    "# initialize model\n",
    "model = GPT2LMHeadModel.from_pretrained('gpt2', pad_token_id=tokenizer.eos_token_id)\n",
    "# enable gradient checkpointing\n",
    "model.gradient_checkpointing_enable()\n",
    "model.config.use_cache = False\n",
    "\n",
    "device = torch.device('cuda' if torch.cuda.is_available() else 'cpu')\n",
    "model = model.to(device)\n",
    "optimizer = torch.optim.AdamW(model.parameters(), lr=5e-6, weight_decay=0.01)\n",
    "num_epochs = 15\n",
    "train_losses = []\n",
    "val_losses = []\n",
    "\n",
    "def train_model(model, optimizer, train_loader):\n",
    "    model.train()\n",
    "    total_loss = 0\n",
    "    for i, batch in enumerate(train_loader):\n",
    "        optimizer.zero_grad()\n",
    "        input_ids = batch['input_ids'].to(device)\n",
    "        attention_mask = batch['attention_mask'].to(device)\n",
    "\n",
    "        outputs = model(input_ids=input_ids, attention_mask=attention_mask, labels=input_ids)\n",
    "        loss = outputs[0]\n",
    "        total_loss += loss.item()\n",
    "\n",
    "        loss.backward()\n",
    "        optimizer.step()\n",
    "\n",
    "        del input_ids, attention_mask, outputs, loss  # free up memory\n",
    "\n",
    "    return total_loss / len(train_loader)\n",
    "\n",
    "def evaluate_model(model, test_loader):\n",
    "    model.eval()\n",
    "    total_acc = 0\n",
    "    with torch.no_grad():\n",
    "        for batch in test_loader:\n",
    "            input_ids = batch['input_ids'].to(device)\n",
    "            attention_mask = batch['attention_mask'].to(device)\n",
    "\n",
    "            outputs = model(input_ids=input_ids, attention_mask=attention_mask, labels=input_ids)\n",
    "            loss = outputs.loss\n",
    "            total_acc += loss.item()\n",
    "\n",
    "    return total_acc / len(test_loader)"
   ]
  },
  {
   "cell_type": "markdown",
   "id": "f98b456079ef058c",
   "metadata": {
    "id": "f98b456079ef058c"
   },
   "source": [
    "task 4: fine-tune model and report loss curve\n",
    "\n",
    "** I was able to get lower training loss and validation loss scores before I cleaned the text, but it took significantly longer to train and the story generator was only outputting special characters like \"\"!##!@!\"@#. after adding the clean_text function above, the scores became higher, but maintaining similar curves, with much better story generation.\n",
    "\n"
   ]
  },
  {
   "cell_type": "code",
   "execution_count": 32,
   "id": "b997e9426417f222",
   "metadata": {
    "ExecuteTime": {
     "end_time": "2024-11-01T21:49:03.066069Z",
     "start_time": "2024-11-01T21:03:26.652015Z"
    },
    "colab": {
     "base_uri": "https://localhost:8080/",
     "height": 993
    },
    "id": "b997e9426417f222",
    "outputId": "e7735658-d81c-471a-de77-ecc6959b6b6a"
   },
   "outputs": [
    {
     "name": "stdout",
     "output_type": "stream",
     "text": [
      "Epoch 1 / 15\n",
      "Epoch 1, Train Loss: 3.890858044107276, Val Loss: 3.6007919992719377\n",
      "Epoch 2 / 15\n",
      "Epoch 2, Train Loss: 3.7152555534638556, Val Loss: 3.548875229699271\n",
      "Epoch 3 / 15\n",
      "Epoch 3, Train Loss: 3.6511400578969933, Val Loss: 3.5171951225825717\n",
      "Epoch 4 / 15\n",
      "Epoch 4, Train Loss: 3.6153777909566123, Val Loss: 3.495133649735224\n",
      "Epoch 5 / 15\n",
      "Epoch 5, Train Loss: 3.5857606680996446, Val Loss: 3.4776145276569186\n",
      "Epoch 6 / 15\n",
      "Epoch 6, Train Loss: 3.5542492493089424, Val Loss: 3.465193124044509\n",
      "Epoch 7 / 15\n",
      "Epoch 7, Train Loss: 3.534764783928193, Val Loss: 3.45488250823248\n",
      "Epoch 8 / 15\n",
      "Epoch 8, Train Loss: 3.5171031262501176, Val Loss: 3.444843950725737\n",
      "Epoch 9 / 15\n",
      "Epoch 9, Train Loss: 3.4999357447566757, Val Loss: 3.437725407736642\n",
      "Epoch 10 / 15\n",
      "Epoch 10, Train Loss: 3.4837687130433967, Val Loss: 3.431303626015073\n",
      "Epoch 11 / 15\n",
      "Epoch 11, Train Loss: 3.4689995007342604, Val Loss: 3.425246034349714\n",
      "Epoch 12 / 15\n",
      "Epoch 12, Train Loss: 3.4538974589612113, Val Loss: 3.421201535633632\n",
      "Epoch 13 / 15\n",
      "Epoch 13, Train Loss: 3.4447898721120445, Val Loss: 3.416007462001982\n",
      "Epoch 14 / 15\n",
      "Epoch 14, Train Loss: 3.4309394215962974, Val Loss: 3.4113759653908864\n",
      "Epoch 15 / 15\n",
      "Epoch 15, Train Loss: 3.419022962271449, Val Loss: 3.407615525381906\n"
     ]
    },
    {
     "data": {
      "image/png": "[encoded data removed]",
      "text/plain": [
       "<Figure size 640x480 with 1 Axes>"
      ]
     },
     "metadata": {},
     "output_type": "display_data"
    }
   ],
   "source": [
    "# training loop\n",
    "for epoch in range(num_epochs):\n",
    "    print(f'Epoch {epoch + 1} / {num_epochs}')\n",
    "    train_loss = train_model(model, optimizer, train_loader)\n",
    "    val_loss = evaluate_model(model, test_loader)\n",
    "    train_losses.append(train_loss)\n",
    "    val_losses.append(val_loss)\n",
    "    print(f'Epoch {epoch + 1}, Train Loss: {train_loss}, Val Loss: {val_loss}')\n",
    "\n",
    "plt.plot(train_losses, label='training Loss')\n",
    "plt.plot(val_losses, label='val Loss')\n",
    "plt.xlabel('Epochs')\n",
    "plt.title('Loss')\n",
    "plt.legend()\n",
    "plt.show()"
   ]
  },
  {
   "cell_type": "markdown",
   "id": "19849428e00e6228",
   "metadata": {
    "id": "19849428e00e6228"
   },
   "source": [
    "task 5: use trained model to generate short story using prompt: `prompt = 'Once upon a time in a faraway land, there was a young prince who'`"
   ]
  },
  {
   "cell_type": "code",
   "execution_count": 34,
   "id": "1DfoTiYzGaNb",
   "metadata": {
    "colab": {
     "base_uri": "https://localhost:8080/"
    },
    "id": "1DfoTiYzGaNb",
    "outputId": "37bce8ab-197e-40a8-a797-7a4d92b6ce7e"
   },
   "outputs": [
    {
     "name": "stdout",
     "output_type": "stream",
     "text": [
      "Once upon a time in a faraway land, there was a young prince who had just returned from a long journey and he was about to embark on a journey when he heard a voice say to him 'I have come to the land of the dead and I am going to take you with me' The prince was very frightened and said to himself 'What is the matter with you and how can I help you if I do not know what to do for you' Then the voice said 'You must go and find a way out of here or you will be killed' So the prince went and found a cave in which he dug a hole and as he went through it he came to an old man who was lying on the ground with his hands tied behind his back and his face covered with blood When he looked up at him he saw that he had been cut off from the rest of his family and that his father was dead There was no one to help him and so he set out to find hi\n"
     ]
    }
   ],
   "source": [
    "model.eval()\n",
    "\n",
    "prompt = \"Once upon a time in a faraway land, there was a young prince who\"\n",
    "\n",
    "input_ids = tokenizer.encode(prompt, add_special_tokens=False, return_tensors='pt').to(device)\n",
    "attention_mask = torch.ones_like(input_ids).to(device)\n",
    "\n",
    "output = model.generate(\n",
    "    input_ids=input_ids,\n",
    "    max_length=200,\n",
    "    num_beams=10,\n",
    "    attention_mask=attention_mask,\n",
    "    labels=input_ids,\n",
    "    top_k = 50,\n",
    "    top_p = 0.95,\n",
    "    repetition_penalty=1.2,\n",
    "    num_return_sequences=1,\n",
    "    no_repeat_ngram_size=2,\n",
    "    do_sample=True,\n",
    "    temperature=0.7\n",
    ")\n",
    "\n",
    "generated_text = tokenizer.decode(output[0], skip_special_tokens=True, clean_up_tokenization_spaces=True)\n",
    "generated_text = generated_text[: generated_text.find(tokenizer.eos_token)]\n",
    "\n",
    "print(generated_text)"
   ]
  }
 ],
 "metadata": {
  "accelerator": "GPU",
  "colab": {
   "gpuType": "A100",
   "provenance": []
  },
  "kernelspec": {
   "display_name": "Python 3 (ipykernel)",
   "language": "python",
   "name": "python3"
  },
  "language_info": {
   "codemirror_mode": {
    "name": "ipython",
    "version": 3
   },
   "file_extension": ".py",
   "mimetype": "text/x-python",
   "name": "python",
   "nbconvert_exporter": "python",
   "pygments_lexer": "ipython3",
   "version": "3.12.1"
  }
 },
 "nbformat": 4,
 "nbformat_minor": 5
}
